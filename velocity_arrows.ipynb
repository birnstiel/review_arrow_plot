{
 "cells": [
  {
   "cell_type": "markdown",
   "metadata": {},
   "source": [
    "# Velocity Arrow Plot\n",
    "\n",
    "This Jupyter/IPython notebook recreates a plot similar to Fig. 4 of [Birnstiel et al. 2016](http://dx.doi.org/10.1007/s11214-016-0256-1). Please cite it when using this notebook. Use [binder](http://mybinder.org/repo/birnstiel/review_arrow_plot) to run it right in your browser."
   ]
  },
  {
   "cell_type": "markdown",
   "metadata": {},
   "source": [
    "## Imports"
   ]
  },
  {
   "cell_type": "code",
   "execution_count": null,
   "metadata": {
    "collapsed": false
   },
   "outputs": [],
   "source": [
    "from matplotlib.patches  import Rectangle\n",
    "from matplotlib          import ticker\n",
    "from IPython.display     import Image,display\n",
    "from scipy.interpolate   import interp2d\n",
    "from scipy.integrate     import odeint\n",
    "from matplotlib          import rcParams\n",
    "from brewer2mpl          import get_map\n",
    "from aux                 import *\n",
    "\n",
    "import numpy             as np\n",
    "import matplotlib.pyplot as plt\n",
    "\n",
    "%matplotlib inline\n",
    "\n",
    "rcParams['axes.linewidth']  = 2\n",
    "rcParams['lines.linewidth'] = 2\n",
    "rcParams['font.size']       = 15"
   ]
  },
  {
   "cell_type": "markdown",
   "metadata": {},
   "source": [
    "## Set parameters"
   ]
  },
  {
   "cell_type": "code",
   "execution_count": null,
   "metadata": {
    "collapsed": false
   },
   "outputs": [],
   "source": [
    "M_star = 0.8*M_sun\n",
    "M_disk = 0.01*M_star\n",
    "r_d    = 200*AU\n",
    "r_0    = 0.1*AU\n",
    "p      = 1 # needed for analytical solution\n",
    "alpha  = 1e-3\n",
    "rho_s  = 1.2\n",
    "v_frag = 1000.\n",
    "n_m    = 100\n",
    "n_r    = 200\n",
    "q      = 0.5\n",
    "TAU    = 200.\n",
    "#\n",
    "# define the dust-to-gas ratio\n",
    "#\n",
    "d2g0   = 5e-3 # the dust to gas ratio of the outer disk, using eps ~r**0.25\n",
    "#eps_f  = lambda r: min(d2g0*(r/r_c)**0.25,d2g0)\n",
    "eps_f  = lambda r: d2g0\n",
    "\n",
    "r      = np.logspace(np.log10(r_0/AU),np.log10(r_d/AU),n_r)*AU\n",
    "a      = np.logspace(-4,3,n_m)\n",
    "m      = 4*pi/3.*rho_s*a**3 \n",
    "#\n",
    "# calculate normalization for sigma_gas\n",
    "#\n",
    "sig_norm = (2-p)*M_disk/(2*pi*r_d**2)*(1-(r_0/r_d)**(2-p))**-1"
   ]
  },
  {
   "cell_type": "markdown",
   "metadata": {},
   "source": [
    "## Calculate trajectories $y(t)$, where $y = [a, r]$"
   ]
  },
  {
   "cell_type": "markdown",
   "metadata": {},
   "source": [
    "Define lambda functions."
   ]
  },
  {
   "cell_type": "code",
   "execution_count": null,
   "metadata": {
    "collapsed": true
   },
   "outputs": [],
   "source": [
    "p_g_f   = lambda r: p                                             # gas surface density index\n",
    "p_v_gas = lambda r: -p_g_f(r)-q+2.                                # index used in the gas velocity\n",
    "gamma_f = lambda r: -p_g_f(r)-(q+3.)/2.                           # pressure index\n",
    "sig_g_f = lambda r: sig_norm*(r/r_d)**-p                          # gas surface density\n",
    "T_f     = lambda r: 200*(r/AU)**-0.5                              # temperature\n",
    "cs_f    = lambda r: np.sqrt(k_b*T_f(r)/mu/m_p)                    # sound speed\n",
    "om_f    = lambda r: np.sqrt(Grav*M_star/r**3)                     # kepler velocity\n",
    "v_g_f   = lambda r: -3*alpha*cs_f(r)**2/om_f(r)/r*p_v_gas(r)      # gas velocity"
   ]
  },
  {
   "cell_type": "code",
   "execution_count": null,
   "metadata": {
    "collapsed": false
   },
   "outputs": [],
   "source": [
    "St_f    = lambda r,a: a*rho_s/sig_g_f(r)*pi/2.                                         # Stokes number\n",
    "v_gd_f  = lambda r,a: 1./(1.+St_f(r,a)**2)*v_g_f(r)                                    # gas drag velocity\n",
    "v_dr_f  = lambda r,a: 1./(St_f(r,a)+St_f(r,a)**-1)*(cs_f(r)**2/(r*om_f(r))*gamma_f(r)) # drift velocity\n",
    "v_t_f   = lambda r,a: v_dr_f(r,a) + v_gd_f(r,a)                                        # total dust velocity\n",
    "         \n",
    "a_fr_f  = lambda r:  2./(3.*pi)*sig_g_f(r)/(rho_s*alpha)*v_frag**2/cs_f(r)**2          #  simple frag. barrier\n",
    "a_st_f  = lambda r: 2*sig_g_f(r)/(pi*rho_s)                                            # St=1 line\n",
    "a_dr_f  = lambda r: 0.55*2*sig_g_f(r)*eps_f(r)*r**2*om_f(r)**2/ \\\n",
    "                    (pi*rho_s*cs_f(r)**2*abs(gamma_f(r)))                              # drift limit\n",
    "\n",
    "b       = lambda r: 3.*alpha*(cs_f(r)/v_frag)**2                                       # quadratic fragmentation barrier\n",
    "a_fr_f2 = lambda r: sig_g_f(r)/(pi*rho_s)*(b(r)-np.sqrt(b(r)**2-4.))\n",
    "\n",
    "#\n",
    "# drift velocity\n",
    "#\n",
    "drdt    = lambda r,a: v_t_f(r,a)\n",
    "#\n",
    "# growth rate, using hd = hg*min(1,sqrt(alpha/St))\n",
    "#\n",
    "dadt = lambda r,a: eps_f(r)*sig_g_f(r)*om_f(r)/rho_s*np.sqrt(3./(2.*pi)) * np.sqrt(alpha/(St_f(r,a)+St_f(r,a)**-1))/min(1.,np.sqrt(alpha/St_f(r,a)))"
   ]
  },
  {
   "cell_type": "markdown",
   "metadata": {},
   "source": [
    "Define Analytical Solution"
   ]
  },
  {
   "cell_type": "code",
   "execution_count": null,
   "metadata": {
    "collapsed": false
   },
   "outputs": [],
   "source": [
    "def sol(r0,a0,t=None,F=1e-2,N=200,t0=1.):\n",
    "    \"\"\"\n",
    "    Calculate the drift+growth trajectory [r(t),a(t)]. If `t` is given, it will calculate\n",
    "    the solution on that time array, otherwise it will integrate until a time `t1` when the\n",
    "    trajectory reaches a radius r(t1)=F*r0.\n",
    "    \n",
    "    Arguments:\n",
    "    ----------\n",
    "    \n",
    "    r0 : float\n",
    "    :   initial radius [AU]\n",
    "    \n",
    "    a0 : float\n",
    "    :   initial grain size [cm]\n",
    "    \n",
    "    Keywords:\n",
    "    ---------\n",
    "    \n",
    "    t : None|array\n",
    "    :   the time array on which the solution is calculated, if None: see other keywords\n",
    "    \n",
    "    F : float\n",
    "    :   the fraction of the initial radius until which the integration is carried out\n",
    "    \n",
    "    N : int\n",
    "    :   the number of time snap shots of the solution array\n",
    "    \n",
    "    t0 : float\n",
    "    :   the first time snap shot of the logarithmic time array\n",
    "    \n",
    "    Returns:\n",
    "    --------\n",
    "    \n",
    "    sol, t\n",
    "    \n",
    "    sol : array\n",
    "    :   sol[:,0] are the radii r(t)             [cm]\n",
    "        sol[:,1] are the grain sizes a(t)       [cm]\n",
    "        t[:]     are the times of the snapshots [s]\n",
    "    \"\"\"\n",
    "    A = a0*rho_s*pi/2./sig_g_f(r0)*(cs_f(r0)/om_f(r0)/r0)**2*om_f(r0)*gamma_f(r0)\n",
    "    B = eps_f(r0)*om_f(r0)\n",
    "    \n",
    "    if t is None:\n",
    "        t1 = (2.*np.log(-((3.*A + 2.*B)*((2.*B)/(3.*A + 2.*B) - F**1.5))/(3.*A)))/(3.*A + 2.*B)\n",
    "        t  = np.append(0,np.logspace(np.log10(t0),np.log10(t1),N))\n",
    "        \n",
    "\n",
    "    x = lambda t: (   (2.*B+3.*A*np.exp(1.5*A*t+B*t)) / (3.*A+2.*B)  )**(2./3.)\n",
    "    y = lambda t: ((3.*A + 2.*B)*np.exp((3.*A*t)/2. + B*t))/(2.*B + 3.*A*np.exp((3.*A*t)/2. + B*t))\n",
    "    return np.array([a0*y(t),r0*x(t)]).T,t"
   ]
  },
  {
   "cell_type": "markdown",
   "metadata": {},
   "source": [
    "## Integration: analytical solution"
   ]
  },
  {
   "cell_type": "code",
   "execution_count": null,
   "metadata": {
    "collapsed": false
   },
   "outputs": [],
   "source": [
    "SOL  = []\n",
    "SOLT = []\n",
    "\n",
    "for r0 in [1,10,100]:\n",
    "    print('r0 = {} AU'.format(r0))\n",
    "    r0   = r0*AU\n",
    "    a0   = 1e-4\n",
    "    y0   = np.array([a0,r0])\n",
    "    #\n",
    "    #  define the derivative dy/dt and integrate\n",
    "    #\n",
    "    dydt  = lambda y,t: [dadt(y[1],y[0]),drdt(y[1],y[0])]\n",
    "    s,tt  = sol(r0,a0,N=300,F=0.5e-2)\n",
    "    SOL  += [s]\n",
    "    SOLT += [tt]"
   ]
  },
  {
   "cell_type": "markdown",
   "metadata": {},
   "source": [
    "## Plot the velocity arrows and trajectories"
   ]
  },
  {
   "cell_type": "code",
   "execution_count": null,
   "metadata": {
    "collapsed": false
   },
   "outputs": [],
   "source": [
    "cols = get_map('Dark2','Qualitative',3).mpl_colors\n",
    "\n",
    "dadt_v  = np.vectorize(dadt)\n",
    "v_t_f_v = np.vectorize(v_t_f)\n",
    "\n",
    "i_q = 10\n",
    "X,Y = np.meshgrid(r,a)\n",
    "U   = r[np.newaxis,:]/v_t_f_v(*np.meshgrid(r,a))/year                 # drift time scale in years\n",
    "V   = a[:,np.newaxis]/dadt_v(*np.meshgrid(r,a))/year # growth time scale in years\n",
    "#\n",
    "# limit to between 1e3 and 1e6 years\n",
    "#\n",
    "U   = np.sign(U)*np.maximum(np.minimum(abs(U),1e6),1e2)\n",
    "V   = np.sign(V)*np.maximum(np.minimum(abs(V),1e6),1e2)\n",
    "# scale such that 0 = 1e6\n",
    "#                 1 = 1e5\n",
    "#                 2 = 1e4\n",
    "#                 3 = 1e3\n",
    "#                 4 = 1e2\n",
    "Vs = (6-np.log10(np.abs(V)))*np.sign(V)\n",
    "Us = (6-np.log10(np.abs(U)))*np.sign(U)\n",
    "#\n",
    "# set quiver properties\n",
    "#\n",
    "props={'scale':1/0.01,'units':'width','width':0.002}\n",
    "#\n",
    "# draw the arrows\n",
    "#\n",
    "f,ax=plt.subplots(figsize=(10,8))\n",
    "Qlr = ax.quiver(X[::i_q,::i_q]/AU,Y[::i_q,::i_q],Us[::i_q,::i_q],np.zeros(Vs[::i_q,::i_q].shape),color='0.5',**props)\n",
    "Qud = ax.quiver(X[::i_q,::i_q]/AU,Y[::i_q,::i_q],np.zeros(Us[::i_q,::i_q].shape),Vs[::i_q,::i_q],color='0.5',**props)\n",
    "Qb  = ax.quiver(X[::i_q,::i_q]/AU,Y[::i_q,::i_q],Us[::i_q,::i_q],Vs[::i_q,::i_q],color='r',alpha=0.5,**props)\n",
    "ax.set_xscale('log')\n",
    "ax.set_yscale('log')\n",
    "ax.set_xlabel('radius [AU]')\n",
    "ax.set_ylabel('particle size [cm]')\n",
    "ax.set_xlim(0.2,500);\n",
    "ax.set_ylim(a[0],a[-1]);\n",
    "#\n",
    "# draw lines\n",
    "#\n",
    "ax.loglog(r/AU,a_st_f(r),'k',  zorder=0,label='St=1')\n",
    "ax.loglog(r/AU,a_fr_f2(r),'-', zorder=0,c=cols[0],label='$a_\\mathrm{frag}$')\n",
    "ax.loglog(r/AU,a_dr_f(r),'-',  zorder=0,c=cols[1],label='$a_\\mathrm{drift}$')\n",
    "#\n",
    "# draw trajectories\n",
    "#\n",
    "for i,s in enumerate(zip(SOL,SOLT)):\n",
    "    tt=s[1]\n",
    "    s=s[0]\n",
    "    ax.loglog(s[:,1]/AU,s[:,0],'--',c=cols[2],label=(i==1)*'trajectory')\n",
    "#\n",
    "# draw box for scale arrows\n",
    "#\n",
    "xo,yo=0.72,0.35\n",
    "rect = plt.Rectangle((xo,yo+0.03), 0.27, 0.6, facecolor=\"0.7\",alpha=0.9,transform=ax.transAxes,zorder=3)\n",
    "ax.minorticks_off()\n",
    "ax.add_patch(rect)\n",
    "#\n",
    "# draw scale arrows\n",
    "#\n",
    "kprops={'labelpos':'E','color':'r','alpha':1}\n",
    "qk1 = plt.quiverkey(Qb,xo+0.06,yo+0.065*5,4,r'$10^2$ years',**kprops)\n",
    "qk2 = plt.quiverkey(Qb,xo+0.06,yo+0.065*4,3,r'$10^3$ years',**kprops)\n",
    "qk3 = plt.quiverkey(Qb,xo+0.06,yo+0.065*3,2,r'$10^4$ years',**kprops)\n",
    "qk4 = plt.quiverkey(Qb,xo+0.06,yo+0.065*2,1,r'$10^5$ years',**kprops)\n",
    "qk5 = plt.quiverkey(Qb,xo+0.06,yo+0.065*1,0,r'$10^6$ years',**kprops)\n",
    "for qk in [qk1,qk2,qk3,qk4,qk5]: qk.set_zorder(4)\n",
    "plt.legend(loc=(0.73,0.73),fontsize=14).get_frame().set_alpha(0)\n",
    "#\n",
    "# save figure\n",
    "#\n",
    "ax.set_axis_bgcolor('none')\n",
    "ax.xaxis.set_major_formatter(ticker.ScalarFormatter())\n",
    "plt.savefig('velocity_arrows.pdf',facecolor='none')\n",
    "plt.savefig('velocity_arrows.png',facecolor='none')\n",
    "plt.close()\n",
    "display(Image(filename='velocity_arrows.png'))"
   ]
  }
 ],
 "metadata": {
  "kernelspec": {
   "display_name": "Python 2",
   "language": "python",
   "name": "python2"
  },
  "language_info": {
   "codemirror_mode": {
    "name": "ipython",
    "version": 2
   },
   "file_extension": ".py",
   "mimetype": "text/x-python",
   "name": "python",
   "nbconvert_exporter": "python",
   "pygments_lexer": "ipython2",
   "version": "2.7.11"
  }
 },
 "nbformat": 4,
 "nbformat_minor": 0
}
